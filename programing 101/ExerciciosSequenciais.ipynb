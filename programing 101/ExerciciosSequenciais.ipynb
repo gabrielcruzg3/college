{
  "cells": [
    {
      "cell_type": "markdown",
      "metadata": {
        "id": "zk1YdzE1qxik"
      },
      "source": [
        "# **Programação em Python - Exercícios Sequenciais**\n"
      ]
    },
    {
      "cell_type": "markdown",
      "metadata": {
        "id": "kKCTjSQCe1vC"
      },
      "source": [
        "## Vamos Praticar!!!!\n",
        "\n",
        "\n"
      ]
    },
    {
      "cell_type": "markdown",
      "metadata": {
        "id": "-tHP_EX3tAU9"
      },
      "source": [
        "Exercício 1: Construir um programa que leia três notas (real) e imprima a média aritmética."
      ]
    },
    {
      "cell_type": "code",
      "execution_count": 1,
      "metadata": {
        "id": "MQac1pRje1vI"
      },
      "outputs": [
        {
          "name": "stdout",
          "output_type": "stream",
          "text": [
            "A média das notas é: 6.40\n"
          ]
        }
      ],
      "source": [
        "# escreva sua resposta\n",
        "nota1 = float(input(\"Digite a primeira nota: \"))\n",
        "nota2 = float(input(\"Digite a segunda nota: \"))\n",
        "nota3 = float(input(\"Digite a terceira nota: \"))\n",
        "\n",
        "media = (nota1 + nota2 + nota3) / 3\n",
        "\n",
        "print(f\"A média, aritmética, das notas é: {media:.2f}\")"
      ]
    },
    {
      "cell_type": "markdown",
      "metadata": {
        "id": "0mh0jy-ctu4S"
      },
      "source": [
        "Exercício 2: Construir um programa para ler dois números inteiros e imprimir o seu produto.\n",
        "\n"
      ]
    },
    {
      "cell_type": "code",
      "execution_count": 4,
      "metadata": {
        "id": "uvrbVmZne1vJ"
      },
      "outputs": [
        {
          "name": "stdout",
          "output_type": "stream",
          "text": [
            "O produto dos números é: 2\n"
          ]
        }
      ],
      "source": [
        "# escreva sua resposta\n",
        "numero1 = int(input(\"Digite um número inteiro: \"))\n",
        "numero2 = int(input(\"Digite outro número inteiro: \"))\n",
        "\n",
        "produto = numero1 * numero2\n",
        "\n",
        "print(f\"O produto dos números é: {produto}\")"
      ]
    },
    {
      "cell_type": "markdown",
      "metadata": {
        "id": "iYz1dSJhwHbQ"
      },
      "source": [
        "Exercício 3: Construir um algoritmo que leia o ano de nascimento de uma pessoa e o ano atual, calcule e mostre:\n",
        "\n",
        "- A idade dessa pessoa;\n",
        "- Quantos anos essa pessoa terá em 2030.\n",
        "\n"
      ]
    },
    {
      "cell_type": "code",
      "execution_count": 5,
      "metadata": {
        "id": "i3x8n21me1vL"
      },
      "outputs": [
        {
          "name": "stdout",
          "output_type": "stream",
          "text": [
            "Sua idade é 24 anos.\n",
            "Em 2030 você terá 30 anos.\n"
          ]
        }
      ],
      "source": [
        "# escreva sua resposta\n",
        "ano_nascimento = int(input(\"Digite o ano do seu nascimento (ex.: 2000): \"))\n",
        "ano_atual = int(input(\"E, só pra confirmar, digite também o ano atual (ex.: 2024): \"))\n",
        "\n",
        "idade = ano_atual - ano_nascimento\n",
        "idade_em_2030 = 2030 - ano_nascimento\n",
        "\n",
        "print(f\"Sua idade é {idade} anos.\")\n",
        "print(f\"Em 2030 você terá {idade_em_2030} anos. 👽\")"
      ]
    },
    {
      "cell_type": "markdown",
      "metadata": {
        "id": "HQGaO5qFyfPJ"
      },
      "source": [
        "Exercício 4: Construir um algoritmo para calcular e imprimir:\n",
        "\n",
        "- O quadrado de 10\n",
        "- O cubo de 3\n",
        "- Resto da divisão de 1000 por 3.5"
      ]
    },
    {
      "cell_type": "code",
      "execution_count": 6,
      "metadata": {
        "id": "VeGK9vRle1vN"
      },
      "outputs": [
        {
          "name": "stdout",
          "output_type": "stream",
          "text": [
            "Quadrado de 10 é 100\n",
            "O cubo de 3 é 27\n",
            "O resto da divisão de 1000 por 3.5 é 2.5\n"
          ]
        }
      ],
      "source": [
        "# escreva sua resposta\n",
        "print(f\"Quadrado de 10 é {10**2}\")\n",
        "print(f\"O cubo de 3 é {3**3}\")\n",
        "print(f\"O resto da divisão de 1000 por 3.5 é {1000 % 3.5}\")"
      ]
    },
    {
      "cell_type": "markdown",
      "metadata": {
        "id": "M43fTu4uzzRT"
      },
      "source": [
        "Exercício 5: Construir um algoritmo para calcular a área do triângulo abaixo:\n",
        "\n",
        "Sabemos que a fórmula da área do triângulo é:\n",
        "\n",
        "Área = (base*altura) / 2.\n",
        "\n",
        "![Triângulo de base = 5cm e altura = 8cm](https://github.com/cjabrao/python/blob/master/triangulo.png?raw=true)"
      ]
    },
    {
      "cell_type": "code",
      "execution_count": 7,
      "metadata": {
        "id": "koAqGQzoe1vP"
      },
      "outputs": [
        {
          "name": "stdout",
          "output_type": "stream",
          "text": [
            "A área do triângulo é: 20.0\n"
          ]
        }
      ],
      "source": [
        "# escreva sua resposta\n",
        "area_triangulo = 0.0\n",
        "\n",
        "base = 5\n",
        "altura = 8\n",
        "\n",
        "area_triangulo = (base * altura) / 2\n",
        "\n",
        "print(f\"A área do triângulo é: {area_triangulo}\")"
      ]
    }
  ],
  "metadata": {
    "colab": {
      "provenance": []
    },
    "kernelspec": {
      "display_name": "Python 3",
      "language": "python",
      "name": "python3"
    },
    "language_info": {
      "codemirror_mode": {
        "name": "ipython",
        "version": 3
      },
      "file_extension": ".py",
      "mimetype": "text/x-python",
      "name": "python",
      "nbconvert_exporter": "python",
      "pygments_lexer": "ipython3",
      "version": "3.11.0"
    }
  },
  "nbformat": 4,
  "nbformat_minor": 0
}
