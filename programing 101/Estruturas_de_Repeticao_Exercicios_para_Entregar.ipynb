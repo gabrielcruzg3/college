{
  "cells": [
    {
      "cell_type": "markdown",
      "metadata": {
        "id": "u1LRxa6K5hoz"
      },
      "source": [
        "# Exercícios - Estruturas de Repetição"
      ]
    },
    {
      "cell_type": "markdown",
      "metadata": {
        "id": "QadcGMzf5ho1"
      },
      "source": [
        "### Exercício 1: par ou ímpar?\n",
        "\n",
        "Escreva um programa que imprime os números de 1 a 10 e se o número é par ou ímpar. Assim:\n",
        "\n",
        "    1 é ímpar\n",
        "    2 é par\n",
        "    3 é ímpar\n",
        "    4 é par\n",
        "    5 é ímpar\n",
        "    etc. (até 10)\n",
        "\n",
        "Primeiro faça o programa usando o comando **for**. Em seguida, faça o  programa usando o comando **while**."
      ]
    },
    {
      "cell_type": "code",
      "execution_count": null,
      "metadata": {
        "id": "k1gatV4j5ho2"
      },
      "outputs": [],
      "source": [
        "# usando o comando for\n",
        "\n",
        "for num_quantidade in range(1, 11):\n",
        "    if num_quantidade % 2 == 0:        \n",
        "        print(f\"{num_quantidade} é par\")\n",
        "    else:\n",
        "        print(f\"{num_quantidade} é ímpar\")"
      ]
    },
    {
      "cell_type": "code",
      "execution_count": null,
      "metadata": {
        "id": "CYxG2CjS5ho2"
      },
      "outputs": [],
      "source": [
        "# usando o comando while\n",
        "num_quantidade = 1\n",
        "while num_quantidade <= 10:\n",
        "    if num_quantidade % 2 == 0:\n",
        "        print(f\"{num_quantidade} é par\")\n",
        "    else:\n",
        "        print(f\"{num_quantidade} é ímpar\")\n",
        "    num_quantidade += 1"
      ]
    },
    {
      "cell_type": "markdown",
      "metadata": {
        "id": "5ZYLHOqi5ho3"
      },
      "source": [
        "### Exercício 2: Maior que 100!\n",
        "\n",
        "O código da célula abaixo, faz o seguinte:\n",
        "\n",
        "1) Dado um número de vendas, que será digitado pelo usuário.\n",
        "\n",
        "2) Pede o valor de cada venda,\n",
        "\n",
        "3) Calcula e imprime o valor total das vendas.\n",
        "\n",
        "Modifique esse código para que,\n",
        "\n",
        "4) toda vez que o usuário digitar uma venda de valor maior do que 100 reais, o programa mostre &ndash; naquele mesmo momento &ndash; uma mensagem de \"Parabéns\" para o vendedor.\n",
        "\n",
        "5) seu programa conte quantas vendas ultrapassaram o valor de 100 reais e, no final, imprima uma mensagem informando essa quantidade.\n"
      ]
    },
    {
      "cell_type": "code",
      "execution_count": null,
      "metadata": {
        "id": "7P7g-tgL5ho3"
      },
      "outputs": [],
      "source": [
        "# primeira parte do código - itens 1, 2 e 3\n",
        "\n",
        "num_quantidade = int(input(\"Qual o número de vendas? \"))\n",
        "total = 0.0\n",
        "totalAcimaDeCem = 0\n",
        "for i in range(num_quantidade):\n",
        "    valor = float(input(\"Qual o valor da venda? \"))\n",
        "    if valor >= 100:\n",
        "        totalAcimaDeCem += 1\n",
        "        print(\"Parabéns pela venda acima de R$ 100 reais: \", valor)\n",
        "    total = total + valor\n",
        "print(\"A total das vendas é:\", total)\n",
        "print(\"O total de vendas acima de R$ 100 é:\", totalAcimaDeCem)"
      ]
    },
    {
      "cell_type": "markdown",
      "metadata": {
        "id": "YSyD_jrn5ho3"
      },
      "source": [
        "<hr>\n",
        "\n",
        "### Exercício 3: par ou ímpar? II\n",
        "\n",
        "Faça um programa que pede para o usuário digitar um inteiro $n > 0$ e que depois pede para o usuário digitar $n$ inteiros. Finalmente mostre ao usuário quantos números pares e quantos ímpares ele digitou."
      ]
    },
    {
      "cell_type": "code",
      "execution_count": null,
      "metadata": {
        "id": "AeIvf38z5ho4"
      },
      "outputs": [],
      "source": [
        "num_quantidade = int(input(\"Digite um número inteiro maior que 0 (vai ser a quantidade): \"))\n",
        "count = 0\n",
        "qt_pares = 0\n",
        "qt_impares = 0\n",
        "\n",
        "if num_quantidade > 0:\n",
        "    while count < num_quantidade:\n",
        "        num_valor = int(input(\"Digite um número inteiro (valor): \"))\n",
        "        if (num_valor % 2 == 0):\n",
        "            print(f\"{num_valor} é par\")\n",
        "            qt_pares += 1\n",
        "        else:\n",
        "            print(f\"{num_valor} é ímpar\")\n",
        "            qt_impares += 1\n",
        "        count += 1\n",
        "else:\n",
        "    print(\"Número inválido\")"
      ]
    },
    {
      "cell_type": "markdown",
      "metadata": {
        "id": "3IBeO_-X5ho4"
      },
      "source": [
        "<hr>\n",
        "\n",
        "### Exercício 4: máximo e mínimo I\n",
        "\n",
        "Faça um programa que pergunte ao usuário para digitar um número inteiro positivo $n$. Em seguida, peça para ele digitar $n$ números racionais (_float_). Depois que o usuário entrar com cada um dos $n$ números, seu programa deve exibir na tela o máximo e o mínimo desses números.\n",
        "\n",
        "<hr>"
      ]
    },
    {
      "cell_type": "code",
      "execution_count": null,
      "metadata": {
        "id": "930njm885ho4"
      },
      "outputs": [],
      "source": [
        "num_quantidade = int(input(\"Digite um número inteiro positivo (vai ser a quantidade): \"))\n",
        "\n",
        "if num_quantidade > 0:\n",
        "    numeros = []\n",
        "    for _ in range(num_quantidade):\n",
        "        num_valor = float(input(\"Digite um número racional (valor): \"))\n",
        "        numeros.append(num_valor)\n",
        "    \n",
        "    max_valor = max(numeros)\n",
        "    min_valor = min(numeros)\n",
        "    \n",
        "    print(f\"O valor máximo é: {max_valor}\")\n",
        "    print(f\"O valor mínimo é: {min_valor}\")\n",
        "else:\n",
        "    print(\"Número inválido\")"
      ]
    }
  ],
  "metadata": {
    "anaconda-cloud": {},
    "colab": {
      "provenance": []
    },
    "kernelspec": {
      "display_name": "Python 3",
      "language": "python",
      "name": "python3"
    },
    "language_info": {
      "codemirror_mode": {
        "name": "ipython",
        "version": 3
      },
      "file_extension": ".py",
      "mimetype": "text/x-python",
      "name": "python",
      "nbconvert_exporter": "python",
      "pygments_lexer": "ipython3",
      "version": "3.11.0"
    }
  },
  "nbformat": 4,
  "nbformat_minor": 0
}
