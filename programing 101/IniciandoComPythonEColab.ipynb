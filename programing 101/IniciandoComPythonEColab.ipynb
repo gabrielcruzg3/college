{
  "cells": [
    {
      "cell_type": "markdown",
      "metadata": {
        "id": "jdpVVEV8ya8m"
      },
      "source": [
        "## **Iniciando com a Programação em Python usando o Google Colaboratory**"
      ]
    },
    {
      "cell_type": "markdown",
      "metadata": {
        "id": "A_w-Tv1Hya8r"
      },
      "source": [
        "### Começando...\n",
        "\n",
        "Este arquivo é um _nootebook_: um arquivo estruturado com unidades básicas de texto ou de código, chamadas células.\n",
        "\n",
        "No Google Colaboratory, as células de código são precedidas por\n",
        "\n",
        "[ ]:\n",
        "\n",
        "como na célula a seguir.\n"
      ]
    },
    {
      "cell_type": "code",
      "execution_count": null,
      "metadata": {
        "id": "ARrCYURTya8s"
      },
      "outputs": [],
      "source": [
        "#Essa é uma célula de código"
      ]
    },
    {
      "cell_type": "markdown",
      "metadata": {
        "id": "BrxiA4I9ya8t"
      },
      "source": [
        "*Essa é uma célula de texto*"
      ]
    },
    {
      "cell_type": "markdown",
      "metadata": {
        "id": "N1oLLLYDya8u"
      },
      "source": [
        "Para executar uma célula de código em um _nootebook_, basta selecionar a célula desejada e digitar <kbd>SHIFT+ENTER</kbd>.\n",
        "A saída gerada pela execução desse código será exibida logo abaixo da célula.\n",
        "\n",
        "No Colaboratory, ao passar o mouse sobre uma célula de código, você poderá executá-la clicando na **seta** que aparecerá ao lado dessa célula, sobre o [ ]:"
      ]
    },
    {
      "cell_type": "markdown",
      "metadata": {
        "id": "6XMa0Vrqya8u"
      },
      "source": [
        "### Vamos praticar!!!"
      ]
    },
    {
      "cell_type": "markdown",
      "metadata": {
        "id": "Ohig9N62ya8u"
      },
      "source": [
        "Uma funcionalidade simples do _nootebook_ é usá-lo como uma calcularora! Assim, execute as células a seguir e observe as saídas."
      ]
    },
    {
      "cell_type": "code",
      "execution_count": 1,
      "metadata": {
        "id": "eEYSZVMMya8v"
      },
      "outputs": [
        {
          "data": {
            "text/plain": [
              "5"
            ]
          },
          "execution_count": 1,
          "metadata": {},
          "output_type": "execute_result"
        }
      ],
      "source": [
        "2+3"
      ]
    },
    {
      "cell_type": "code",
      "execution_count": 2,
      "metadata": {
        "id": "OwIwK1uEya8v"
      },
      "outputs": [
        {
          "data": {
            "text/plain": [
              "4"
            ]
          },
          "execution_count": 2,
          "metadata": {},
          "output_type": "execute_result"
        }
      ],
      "source": [
        "5-1"
      ]
    },
    {
      "cell_type": "code",
      "execution_count": null,
      "metadata": {
        "id": "QEpDycHQya8v"
      },
      "outputs": [],
      "source": [
        "10 * 200"
      ]
    },
    {
      "cell_type": "code",
      "execution_count": null,
      "metadata": {
        "id": "r4VVYoeYya8w"
      },
      "outputs": [],
      "source": [
        "2 ** 4"
      ]
    },
    {
      "cell_type": "code",
      "execution_count": null,
      "metadata": {
        "id": "phzvzWHqya8w"
      },
      "outputs": [],
      "source": [
        "10/2\n"
      ]
    },
    {
      "cell_type": "markdown",
      "metadata": {
        "id": "i9ajSirzya8w"
      },
      "source": [
        "Nos exemplos acima, você já conheceu o funcionamento dos operadores aritméticos básicos: soma (`+`), subtração (`-`), multiplicação (`*`), divisão (`/`) e até potenciação (`**`)."
      ]
    },
    {
      "cell_type": "markdown",
      "metadata": {
        "id": "qPbyk-fdya8w"
      },
      "source": [
        "Outros operadores aritméticos em Python são:\n",
        "\n",
        "- operador de divisão inteira é `//`, que fornece como saída o quociente da divisão (faz um arredondamento para baixo)\n",
        "- operador &nbsp;`%`&nbsp; que calcula o resto da divisão de um número por outro.\n",
        "\n",
        "Esses operadores aritméticos também respeitam a precedência de operadores como na Matemática. Assim:\n",
        "\n",
        "\n",
        "1.    &nbsp;&nbsp;&nbsp;`**`\n",
        "2.    &nbsp;&nbsp;&nbsp;`*`&nbsp;&nbsp;&nbsp;&nbsp;`/`&nbsp;&nbsp;&nbsp;&nbsp;`//`&nbsp;&nbsp;&nbsp;&nbsp;`%`\n",
        "3.    &nbsp;&nbsp;&nbsp;`+`&nbsp;&nbsp;&nbsp;&nbsp;`-`\n",
        "\n",
        "Também podemos usar parênteses para garantir a ordem de execução das operações.\n",
        "\n",
        "#### Teste esses operadores nas células a seguir:"
      ]
    },
    {
      "cell_type": "code",
      "execution_count": null,
      "metadata": {
        "id": "KVwNVt3Zya8w"
      },
      "outputs": [],
      "source": []
    },
    {
      "cell_type": "code",
      "execution_count": null,
      "metadata": {
        "id": "S_NwXZcDya8x"
      },
      "outputs": [],
      "source": []
    },
    {
      "cell_type": "code",
      "execution_count": null,
      "metadata": {
        "id": "iy4IZPN7ya8x"
      },
      "outputs": [],
      "source": []
    },
    {
      "cell_type": "code",
      "execution_count": null,
      "metadata": {
        "id": "yZe1lN6bya8x"
      },
      "outputs": [],
      "source": []
    },
    {
      "cell_type": "markdown",
      "metadata": {
        "id": "L8LT84f6ya8x"
      },
      "source": [
        "## Variáveis"
      ]
    },
    {
      "cell_type": "markdown",
      "metadata": {
        "id": "bl0V0ANKya8x"
      },
      "source": [
        "Você pode armazenar o resultado de um cálculo em uma variável para poder usá-lo em um momento futuro.\n",
        "\n",
        "Para criar uma variável em Python, basta definir o nome da variável e, em seguida, atribuir um valor a ela. Assim:\n",
        "\n",
        "    <nome_da_variavel> = <valor da variável>\n",
        "\n",
        "O operador de atribuição em Python é o sinal de igual `=`.  \n",
        "\n",
        "Vejamos um exemplo:\n"
      ]
    },
    {
      "cell_type": "code",
      "execution_count": null,
      "metadata": {
        "id": "5cBrlKbeya8x"
      },
      "outputs": [],
      "source": [
        "a = 10"
      ]
    },
    {
      "cell_type": "markdown",
      "metadata": {
        "id": "U1Dgbnyqya8x"
      },
      "source": [
        "Se você executar o código (atribuição) da célula anterior, não aparecerá nenhuma saída. Apenas o valor da variável `a` será definido como `10`. Você pode testar o valor de uma variável colocando somente o nome dela e executando a célula. Assim:\n"
      ]
    },
    {
      "cell_type": "code",
      "execution_count": null,
      "metadata": {
        "id": "U8kaEQTHya8x"
      },
      "outputs": [],
      "source": [
        "a"
      ]
    },
    {
      "cell_type": "markdown",
      "metadata": {
        "id": "uOUb-5kKya8y"
      },
      "source": [
        "Uma célula pode executar mais de uma linha de código. Um exemplo é:\n"
      ]
    },
    {
      "cell_type": "code",
      "execution_count": null,
      "metadata": {
        "id": "T3PkMRMRya8y"
      },
      "outputs": [],
      "source": [
        "b = 2\n",
        "c = 1\n",
        "c + b"
      ]
    },
    {
      "cell_type": "markdown",
      "metadata": {
        "id": "tFyAwQdyya8y"
      },
      "source": [
        "Nesse exemplo, fizemos uma atribuição para b (valor 2) e outra atribuição para c (valor 1) e, em seguida realizamos a operação de adição dessas variáveis (2 + 1). Ao executar a célula, a saída apresentada é o resultado da operação de adição (3)."
      ]
    },
    {
      "cell_type": "markdown",
      "metadata": {
        "id": "aS8dZcUgya8y"
      },
      "source": [
        "Os nomes das variáveis em Python seguem algumas regras:\n",
        "\n",
        "1) os nomes podem começar com uma letra ou com o caracter de underline.\n",
        "\n",
        "2) o restante do nome da variável pode conter letras, números e underline.\n",
        "\n",
        "3) os nomes são *case sensitive*, isto é, letras maiúsculas são diferentes das mesmas letras em minúsculas. As variáveis `c` e `C` são duas variáveis diferentes.\n",
        "\n",
        "4) os nomes das variáveis não podes ser palavras reservadas do Python.\n",
        "\n",
        "\n",
        "OBS. Python define alguns tipos de variáveis, como veremos em outras aulas desse curso. Nessa aula iremos trabalhar com variáveis do tipo inteiro (**int**) em Python. Essas variáveis podem armazenar números inteiros.\n",
        "\n",
        "## Aproveite para praticar!!!"
      ]
    },
    {
      "cell_type": "code",
      "execution_count": null,
      "metadata": {
        "id": "MlJRvwUeya8y"
      },
      "outputs": [],
      "source": []
    },
    {
      "cell_type": "code",
      "execution_count": null,
      "metadata": {
        "id": "e_AHwyl4ya8y"
      },
      "outputs": [],
      "source": []
    },
    {
      "cell_type": "markdown",
      "metadata": {
        "id": "kKCTjSQCe1vC"
      },
      "source": [
        "# Entrada e Saída\n",
        "\n",
        "\n",
        "Ao executar um programa de computador identificamos os seguintes itens:\n",
        "\n",
        "    1) dados de entrada do programa (dados que o programa recebe)\n",
        "    2) processamento\n",
        "    3) dados de saída do programa (dados que o programa mostra)\n",
        "\n",
        "Portanto, precisamos de:\n",
        "\n",
        "    1) alguma fonte de entrada de dados (teclado, mouse, arquivo, etc.),\n",
        "    2) processar esses dados de entrada e,\n",
        "    3) enviar o resultado desse processamento para algum local (tela, arquivo, impressora, etc.).\n",
        "\n",
        "\n",
        "\n",
        "\n"
      ]
    },
    {
      "cell_type": "markdown",
      "metadata": {
        "id": "spksqwx9ya8z"
      },
      "source": [
        "### Vamos entender como funcionam os mecanismos de entrada e saída na linguagem Python.\n",
        "\n",
        "Para isso, vamos usar como exemplo o problema a seguir.\n",
        "\n",
        "### **Problema: Dados dois números inteiros a e b, calcular a soma desses números e mostrá-la na tela.**\n"
      ]
    },
    {
      "cell_type": "markdown",
      "metadata": {
        "id": "H-HyukxRya8z"
      },
      "source": [
        "Vejamos uma primeira solução. Execute a próxima célula e veja o que acontece."
      ]
    },
    {
      "cell_type": "code",
      "execution_count": null,
      "metadata": {
        "id": "d4OFYxB1e1vD"
      },
      "outputs": [],
      "source": [
        "# Tentativa de solução 1:\n",
        "\n",
        "a = 1\n",
        "b = 2\n",
        "soma = a + b\n",
        "print(\"a + b é igual a soma\")\n"
      ]
    },
    {
      "cell_type": "markdown",
      "metadata": {
        "id": "-tHP_EX3tAU9"
      },
      "source": [
        "Em Python, tudo que está entre aspas (\") define um texto ou uma **string** (estudaremos esse tipo mais adiante nesse curso). Usamos aqui a função **print()** para mostrar os dados de saída.\n",
        "\n",
        "A função **print()** recebe uma lista de argumentos/parâmetros e mostra esses argumentos na saída.\n",
        "\n",
        "Nessa primeira solução, apresentada na célula anterior, o **print()** recebeu um único parâmetro, uma **string**!!! E, nesse caso, ele mostra na tela exatamente essa **string** - \"**a + b é igual a soma**\".\n",
        "\n",
        "Mas, na solução desse problema, queremos imprimir o valor (conteúdo) das variáveis (**a**, **b** e **soma**) e não o nome delas.\n",
        "\n",
        "OBS. O caracter `#` em Python define um comentário e, portanto, tudo que virá em seguida na mesma linha, será ignorado pelo programa."
      ]
    },
    {
      "cell_type": "markdown",
      "metadata": {
        "id": "v-IuOBwhya8z"
      },
      "source": [
        "Vejamos uma segunda solução. Execute a próxima célula e veja o que acontece."
      ]
    },
    {
      "cell_type": "code",
      "execution_count": null,
      "metadata": {
        "id": "MQac1pRje1vI"
      },
      "outputs": [],
      "source": [
        "# Tentativa de solução 2:\n",
        "\n",
        "a = 1\n",
        "b = 2\n",
        "soma = a + b\n",
        "print(\"a + b é igual a\", soma)\n"
      ]
    },
    {
      "cell_type": "markdown",
      "metadata": {
        "id": "0mh0jy-ctu4S"
      },
      "source": [
        "Agora a função **print()** recebeu dois parâmetros, separados por vírgula:\n",
        "    \n",
        "  - O primeiro valor é um texto entre aspas (string): **\"a + b é igual a\"**\n",
        "  - O segundo valor é o nome de uma variável: a variável **soma**\n",
        "\n",
        "Desta forma, o texto é impresso diretamente. Afinal, esse já é o seu valor!\n",
        "\n",
        "No caso da variável soma, a função print irá imprimir o seu valor, o seu conteúdo.\n",
        "\n",
        "Mas ainda não temos o resultado que desejamos. Precisamos descobrir como imprimir os valores das variáveis a e b, ao invés de imprimir seus nomes... Como fazer isso???\n"
      ]
    },
    {
      "cell_type": "code",
      "execution_count": null,
      "metadata": {
        "id": "uvrbVmZne1vJ"
      },
      "outputs": [],
      "source": [
        "# Tentativa de solução 3:\n",
        "\n",
        "a = 3\n",
        "b = 4\n",
        "soma = a + b\n",
        "print(a, \"+\", b, \"é igual a\", soma)\n"
      ]
    },
    {
      "cell_type": "markdown",
      "metadata": {
        "id": "JenGDJGgv6dk"
      },
      "source": [
        "Agora sim!!! Conseguimos imprimir os valores das variáveis a e b porque elas estão separadas dos textos.\n",
        "\n",
        "\n",
        "---\n",
        "\n",
        "\n"
      ]
    },
    {
      "cell_type": "markdown",
      "metadata": {
        "id": "iYz1dSJhwHbQ"
      },
      "source": [
        "Bem, e se quisermos usar essa solução para somar quaisquer dois números inteiros? Podemos pedir para o usuário digitar esses números!!!\n",
        "\n",
        "A função **input()** nos ajuda nessa tarefa! Quando ela é executada, fica aguardando uma entrada de dados.\n",
        "\n",
        "Nesse caso, fica aguardando o usuário digitar algo no teclado. E, para que o usuário saiba o que digitar, podemos colocar uma orientação (texto), junto com a função **input()**.\n",
        "\n",
        "Vamos ver o que acontece? Vamos testar digitando os números 6 e 7.\n",
        "\n"
      ]
    },
    {
      "cell_type": "code",
      "execution_count": null,
      "metadata": {
        "id": "i3x8n21me1vL"
      },
      "outputs": [],
      "source": [
        "# Tentativa de solução 4:\n",
        "\n",
        "a = input(\"Digite o primeiro numero: \")\n",
        "b = input(\"Digite o segundo numero: \")\n",
        "soma = a + b\n",
        "print(a, \"+\", b, \"é igual a\", soma)\n",
        "\n"
      ]
    },
    {
      "cell_type": "markdown",
      "metadata": {
        "id": "Ot_RLyG8xkw5"
      },
      "source": [
        "Como imaginávamos, a função **input()** colocou a orientação na tela e aguardou a resposta do usuário.\n",
        "\n",
        "Mas algo deu errado!!! Quando digitamos 6 e depois 7, o resultado da soma foi 67!!! O programa não somou os dois números!!! Por que???\n",
        "\n",
        "\n",
        "---\n",
        "\n",
        "\n"
      ]
    },
    {
      "cell_type": "markdown",
      "metadata": {
        "id": "HQGaO5qFyfPJ"
      },
      "source": [
        "É porque a função **input()** sempre devolve uma string e, quando usamos o operador + nos comandos acima, na verdade Python entendeu que era o operador para \"concatenar\" duas strings!!! Ou seja, o programa não somou os números 6 e 7. O que ele fez foi \"concatenar\" (juntar) duas strings \"6\" e \"7\". *Veremos string e suas operações mais adiante nesse curso!!!*\n",
        "\n",
        "Então, precisamos converter as strings \"6\" e \"7\" nos respectivos números 6 e 7. Para isso usaremos a função **int()**, que irá converter uma **string** em um número **inteiro**!!!\n",
        "\n",
        "Nova tentativa:\n"
      ]
    },
    {
      "cell_type": "code",
      "execution_count": null,
      "metadata": {
        "id": "VeGK9vRle1vN"
      },
      "outputs": [],
      "source": [
        "# Tentativa de solução 5:\n",
        "\n",
        "a_str = input(\"Digite o primeiro numero: \")\n",
        "b_str = input(\"Digite o segundo numero: \")\n",
        "a = int(a_str) # converte string/texto para inteiro\n",
        "b = int(b_str) # converte string/texto para inteiro\n",
        "soma = a + b\n",
        "print(a, \"+\", b, \"é igual a\", soma)\n"
      ]
    },
    {
      "cell_type": "markdown",
      "metadata": {
        "id": "M43fTu4uzzRT"
      },
      "source": [
        "Agora funcionou!!!!\n",
        "\n",
        "Mas podemos melhorar esse código! Não precisamos criar novas variáveis, podemos fazer a conversão de forma direta, aplicando as funções int() e input() juntamente à resposta que o usuário vai digitar.\n",
        "\n",
        "Assim:\n"
      ]
    },
    {
      "cell_type": "code",
      "execution_count": null,
      "metadata": {
        "id": "koAqGQzoe1vP"
      },
      "outputs": [],
      "source": [
        "# Tentativa de solução 6:\n",
        "\n",
        "a = int(input(\"Digite o primeiro numero: \"))\n",
        "b = int(input(\"Digite o segundo numero: \"))\n",
        "soma = a + b\n",
        "print( a, \"+\", b, \"é igual a\", soma)\n",
        "\n"
      ]
    },
    {
      "cell_type": "code",
      "execution_count": null,
      "metadata": {
        "id": "f_dkI0ieya85"
      },
      "outputs": [],
      "source": []
    },
    {
      "cell_type": "code",
      "execution_count": 4,
      "metadata": {},
      "outputs": [
        {
          "name": "stdout",
          "output_type": "stream",
          "text": [
            "Saida:  aaa\n"
          ]
        }
      ],
      "source": [
        "entrada = input(\"bla\")\n",
        "saida = entrada*3\n",
        "print(\"Saida: \", saida)"
      ]
    }
  ],
  "metadata": {
    "colab": {
      "provenance": []
    },
    "kernelspec": {
      "display_name": "Python 3",
      "language": "python",
      "name": "python3"
    },
    "language_info": {
      "codemirror_mode": {
        "name": "ipython",
        "version": 3
      },
      "file_extension": ".py",
      "mimetype": "text/x-python",
      "name": "python",
      "nbconvert_exporter": "python",
      "pygments_lexer": "ipython3",
      "version": "3.11.0"
    }
  },
  "nbformat": 4,
  "nbformat_minor": 0
}
