{
 "cells": [
  {
   "cell_type": "markdown",
   "metadata": {},
   "source": []
  },
  {
   "cell_type": "code",
   "execution_count": 2,
   "metadata": {},
   "outputs": [
    {
     "name": "stdout",
     "output_type": "stream",
     "text": [
      "A comissão é de R$ 0.21000000000000002\n"
     ]
    }
   ],
   "source": [
    "totalVendas = float(input(\"Digite o total de vendas: \"))\n",
    "comissao = totalVendas * 0.10\n",
    "print(\"A comissão é de R$\", comissao, \" reais\")"
   ]
  },
  {
   "cell_type": "markdown",
   "metadata": {},
   "source": []
  },
  {
   "cell_type": "code",
   "execution_count": 4,
   "metadata": {},
   "outputs": [
    {
     "name": "stdout",
     "output_type": "stream",
     "text": [
      "O custo da viagem foi de R$ 7.18  reais\n",
      "O custo da viagem foi de R$ 7.18 reais\n"
     ]
    }
   ],
   "source": [
    "rendimento_carro = 10\n",
    "vl_litro_gasolina = 6.77\n",
    "\n",
    "distancia = float(input(\"Digite a distância percorrida, em km: \"))\n",
    "\n",
    "consumo = distancia / rendimento_carro\n",
    "custo = consumo * vl_litro_gasolina\n",
    "\n",
    "# print(\"O custo da viagem foi de R$\", custo, \" reais\")\n",
    "custo_rounded = round(custo, 2)\n",
    "print(\"O custo da viagem foi de R$\", custo_rounded, \"reais\")\n",
    "print(f\"O custo da viagem foi de R$ {custo:.2f} reais\")"
   ]
  },
  {
   "cell_type": "markdown",
   "metadata": {},
   "source": []
  },
  {
   "cell_type": "code",
   "execution_count": 6,
   "metadata": {},
   "outputs": [
    {
     "name": "stdout",
     "output_type": "stream",
     "text": [
      "O seu IMC é de 22.99\n"
     ]
    }
   ],
   "source": [
    "peso = float(input(\"Digite o seu peso, em kg: \"))\n",
    "altura = float(input(\"Digite a sua altura, em metros: \"))\n",
    "\n",
    "imc = peso / (altura ** 2)\n",
    "\n",
    "# print(f\"O seu IMC é de {round(imc, 2)}\")\n",
    "# print(\"E é classificado como: \", end=\"\")\n",
    "if (imc < 17):\n",
    "    print(\"Muito abaixo do peso\")\n",
    "elif ((imc > 17) and (imc < 18.5)):\n",
    "    print(\"Abaixo do peso\")\n",
    "elif ((imc > 18.5) and (imc < 24.9)):\n",
    "    print(\"Peso normal\")\n",
    "elif ((imc > 24.9) and (imc < 29.9)):\n",
    "    print(\"Sobrepeso\")\n",
    "elif ((imc > 29.9) and (imc < 34.9)):\n",
    "    print(\"Obesidade grau 1\")\n",
    "elif ((imc > 34.9) and (imc < 39.9)):\n",
    "    print(\"Obesidade grau 2\")\n",
    "elif (imc >= 40):\n",
    "    print(\"Obesidade grau 3\")\n",
    "    \n",
    "\n",
    "    \n"
   ]
  },
  {
   "cell_type": "markdown",
   "metadata": {},
   "source": []
  },
  {
   "cell_type": "code",
   "execution_count": 7,
   "metadata": {},
   "outputs": [
    {
     "name": "stdout",
     "output_type": "stream",
     "text": [
      "x1:  (-0.49999999999999994+0.8660254037844386j) /t x2:  (-0.5-0.8660254037844386j)\n",
      "x1:  (-0.5-0.8660254037844386j) /t x2:  (-0.5-0.8660254037844386j)\n"
     ]
    }
   ],
   "source": [
    "# (-b±√(b2-4ac))/2a\n",
    "a = 1\n",
    "b = 1\n",
    "c = 1\n",
    "\n",
    "sqrt = lambda x: x ** 0.5\n",
    "\n",
    "x1 = (-b+sqrt(b**2-4*a*c))/(2*a)\n",
    "x2 = (-b-sqrt(b**2-4*a*c))/(2*a)\n",
    "\n",
    "print(\"x1: \", x1,\"/t x2: \", x2)\n",
    "\n",
    "x1 = (-b+ (b**2-4*a*c)**(1/2) ) / (2*a)\n",
    "x1 = (-b- (b**2-4*a*c)**(1/2) ) / (2*a)\n",
    "print(\"x1: \", x1,\"/t x2: \", x2)"
   ]
  },
  {
   "cell_type": "markdown",
   "metadata": {},
   "source": []
  },
  {
   "cell_type": "code",
   "execution_count": null,
   "metadata": {},
   "outputs": [],
   "source": [
    "#A equação que determina o diâmetro de um eixo submetido a um esforço de torção e flexão simultâneas é\n",
    "\n",
    "\"\"\" A = 32*FS/pi\n",
    "B=((kf*Ma)**2+(3/4)*(kfs*Ta)**2)**(1/2)\n",
    "B /= Sf\n",
    "C = ((kfm*Mm)**2 + (3/4)(kfsm*Tm)**2)**(1/2)\n",
    "C /= Sut\n",
    "d = A*(B+C)\n",
    "d **= (1/3) \"\"\""
   ]
  },
  {
   "cell_type": "markdown",
   "metadata": {},
   "source": []
  },
  {
   "cell_type": "code",
   "execution_count": 11,
   "metadata": {},
   "outputs": [
    {
     "name": "stdout",
     "output_type": "stream",
     "text": [
      "A letra digitada foi: Z em Decimal: 90 em Hexadecimal: 0x5a em Binário: 0b1011010\n"
     ]
    }
   ],
   "source": [
    "# recebe um caractere digitado pelo teclado utilizando a função input() e retorne, utilizando a função print(), esse caractere convertido em Decimal, Hexadecimal e Binário\n",
    "\n",
    "letra = input(\"Digite uma letra: \")\n",
    "\n",
    "letra_decimal = ord(letra)\n",
    "letra_hex = hex(letra_decimal)\n",
    "letra_bin = bin(letra_decimal)\n",
    "\n",
    "print(f\"A letra digitada foi: {letra} em Decimal: {letra_decimal} em Hexadecimal: {letra_hex} em Binário: {letra_bin}\")"
   ]
  },
  {
   "cell_type": "markdown",
   "metadata": {},
   "source": []
  },
  {
   "cell_type": "code",
   "execution_count": 3,
   "metadata": {},
   "outputs": [],
   "source": [
    "sinal = [29.2, 29.3, 29.4, 29.2, 29.2, 29.2, 29.3, 29.2, 29.1, 29.4, 29.2, 29.1, 29.1, 29.2, 29.1, 29.1, 29.2, 29.2, 29.0, 29.1, 29.1,\n",
    "         29.1, 29.2, 29.1, 29.0, 29.2, 29.2, 29.0, 29.2, 29.4, 29.3, 29.3, 29.3, 29.5, 29.4, 29.4, 29.5, 29.5, 29.5, 29.5, 29.5, 29.5,\n",
    "         29.6, 29.5, 29.6, 29.7, 29.7, 29.7, 29.8, 29.8, 29.8, 29.9, 29.8, 29.9, 29.9, 29.9, 29.9, 29.9, 30.0, 30.0, 30.0, 30.1, 30.2,\n",
    "         30.1, 30.1, 30.3, 30.2, 30.2, 30.3, 30.3, 30.3, 30.3, 30.3, 30.3, 30.3, 30.3, 30.3, 30.4, 30.4, 30.3, 30.3, 30.3, 30.4, 30.3, \n",
    "         30.3, 30.3, 30.4, 30.3, 30.3, 30.3, 30.4, 30.3, 30.3, 30.4, 30.3, 30.3, 30.3, 30.3, 30.3, 30.2, 30.3, 30.3, 30.3, 30.2, 30.2,\n",
    "         30.2, 30.2, 30.2, 30.2, 30.2, 30.2, 30.2, 30.1, 30.1, 30.2, 30.0, 30.0, 30.1, 30.0, 30.0, 30.0, 30.1, 30.0, 29.9, 30.0, 30.0,\n",
    "         30.0, 30.1, 30.0, 29.9, 30.0, 30.0, 30.0, 29.9, 30.0, 29.9, 29.9, 30.0, 30.0, 30.0, 29.9, 29.9, 30.1, 29.9, 30.0, 29.9, 30.0,\n",
    "         30.0, 29.9, 30.0, 30.1]\n",
    "\n",
    "sinal_reduzido = []\n",
    "\n",
    "index = 0\n",
    "\n",
    "while index <= len(sinal):\n",
    "    if index == len(sinal) - 1:\n",
    "        sinal_reduzido.append(sinal[index])\n",
    "        index += 1\n",
    "        break\n",
    "    media_sinal = (sinal[index] + sinal[index + 1]) / 2\n",
    "    media_sinal = round(media_sinal, 2)\n",
    "    sinal_reduzido.append(media_sinal)\n",
    "    index += 2\n"
   ]
  }
 ],
 "metadata": {
  "kernelspec": {
   "display_name": "Python 3",
   "language": "python",
   "name": "python3"
  },
  "language_info": {
   "codemirror_mode": {
    "name": "ipython",
    "version": 3
   },
   "file_extension": ".py",
   "mimetype": "text/x-python",
   "name": "python",
   "nbconvert_exporter": "python",
   "pygments_lexer": "ipython3",
   "version": "3.11.0"
  }
 },
 "nbformat": 4,
 "nbformat_minor": 2
}
