{
  "cells": [
    {
      "cell_type": "markdown",
      "metadata": {
        "id": "zk1YdzE1qxik"
      },
      "source": [
        "# **Programação em Python - Exercícios Sequenciais**\n"
      ]
    },
    {
      "cell_type": "markdown",
      "metadata": {
        "id": "kKCTjSQCe1vC"
      },
      "source": [
        "## Vamos Praticar!!!!\n",
        "\n",
        "\n"
      ]
    },
    {
      "cell_type": "markdown",
      "metadata": {
        "id": "-tHP_EX3tAU9"
      },
      "source": [
        "Exercício 1: Construir um programa que leia três notas (real) e imprima a média aritmética."
      ]
    },
    {
      "cell_type": "code",
      "execution_count": null,
      "metadata": {
        "id": "MQac1pRje1vI"
      },
      "outputs": [],
      "source": [
        "# escreva sua resposta\n"
      ]
    },
    {
      "cell_type": "markdown",
      "metadata": {
        "id": "0mh0jy-ctu4S"
      },
      "source": [
        "Exercício 2: Construir um programa para ler dois números inteiros e imprimir o seu produto.\n",
        "\n"
      ]
    },
    {
      "cell_type": "code",
      "execution_count": null,
      "metadata": {
        "id": "uvrbVmZne1vJ"
      },
      "outputs": [],
      "source": [
        "# escreva sua resposta\n"
      ]
    },
    {
      "cell_type": "markdown",
      "metadata": {
        "id": "iYz1dSJhwHbQ"
      },
      "source": [
        "Exercício 3: Construir um algoritmo que leia o ano de nascimento de uma pessoa e o ano atual, calcule e mostre:\n",
        "\n",
        "- A idade dessa pessoa;\n",
        "- Quantos anos essa pessoa terá em 2030.\n",
        "\n"
      ]
    },
    {
      "cell_type": "code",
      "execution_count": null,
      "metadata": {
        "id": "i3x8n21me1vL"
      },
      "outputs": [],
      "source": [
        "# escreva sua resposta\n"
      ]
    },
    {
      "cell_type": "markdown",
      "metadata": {
        "id": "HQGaO5qFyfPJ"
      },
      "source": [
        "Exercício 4: Construir um algoritmo para calcular e imprimir:\n",
        "\n",
        "- O quadrado de 10\n",
        "- O cubo de 3\n",
        "- Resto da divisão de 1000 por 3.5"
      ]
    },
    {
      "cell_type": "code",
      "execution_count": null,
      "metadata": {
        "id": "VeGK9vRle1vN"
      },
      "outputs": [],
      "source": [
        "# escreva sua resposta\n"
      ]
    },
    {
      "cell_type": "markdown",
      "metadata": {
        "id": "M43fTu4uzzRT"
      },
      "source": [
        "Exercício 5: Construir um algoritmo para calcular a área do triângulo abaixo:\n",
        "\n",
        "Sabemos que a fórmula da área do triângulo é:\n",
        "\n",
        "Área = (base*altura) / 2.\n",
        "\n",
        "![Triângulo de base = 5cm e altura = 8cm](https://github.com/cjabrao/python/blob/master/triangulo.png?raw=true)"
      ]
    },
    {
      "cell_type": "code",
      "execution_count": null,
      "metadata": {
        "id": "koAqGQzoe1vP"
      },
      "outputs": [],
      "source": [
        "# escreva sua resposta\n"
      ]
    }
  ],
  "metadata": {
    "colab": {
      "provenance": []
    },
    "kernelspec": {
      "display_name": "Python 3",
      "language": "python",
      "name": "python3"
    },
    "language_info": {
      "codemirror_mode": {
        "name": "ipython",
        "version": 3
      },
      "file_extension": ".py",
      "mimetype": "text/x-python",
      "name": "python",
      "nbconvert_exporter": "python",
      "pygments_lexer": "ipython3",
      "version": "3.7.4"
    }
  },
  "nbformat": 4,
  "nbformat_minor": 0
}