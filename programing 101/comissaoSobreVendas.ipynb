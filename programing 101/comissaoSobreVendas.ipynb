{
 "cells": [
  {
   "cell_type": "markdown",
   "metadata": {},
   "source": []
  },
  {
   "cell_type": "code",
   "execution_count": 2,
   "metadata": {},
   "outputs": [
    {
     "name": "stdout",
     "output_type": "stream",
     "text": [
      "A comissão é de R$ 0.21000000000000002\n"
     ]
    }
   ],
   "source": [
    "totalVendas = float(input(\"Digite o total de vendas: \"))\n",
    "comissao = totalVendas * 0.10\n",
    "print(\"A comissão é de R$\", comissao, \" reais\")"
   ]
  },
  {
   "cell_type": "markdown",
   "metadata": {},
   "source": []
  },
  {
   "cell_type": "code",
   "execution_count": 4,
   "metadata": {},
   "outputs": [
    {
     "name": "stdout",
     "output_type": "stream",
     "text": [
      "O custo da viagem foi de R$ 7.18  reais\n",
      "O custo da viagem foi de R$ 7.18 reais\n"
     ]
    }
   ],
   "source": [
    "rendimento_carro = 10\n",
    "vl_litro_gasolina = 6.77\n",
    "\n",
    "distancia = float(input(\"Digite a distância percorrida, em km: \"))\n",
    "\n",
    "consumo = distancia / rendimento_carro\n",
    "custo = consumo * vl_litro_gasolina\n",
    "\n",
    "# print(\"O custo da viagem foi de R$\", custo, \" reais\")\n",
    "custo_rounded = round(custo, 2)\n",
    "print(\"O custo da viagem foi de R$\", custo_rounded, \"reais\")\n",
    "print(f\"O custo da viagem foi de R$ {custo:.2f} reais\")"
   ]
  },
  {
   "cell_type": "markdown",
   "metadata": {},
   "source": []
  },
  {
   "cell_type": "code",
   "execution_count": 6,
   "metadata": {},
   "outputs": [
    {
     "name": "stdout",
     "output_type": "stream",
     "text": [
      "O seu IMC é de 22.99\n"
     ]
    }
   ],
   "source": [
    "peso = float(input(\"Digite o seu peso, em kg: \"))\n",
    "altura = float(input(\"Digite a sua altura, em metros: \"))\n",
    "\n",
    "imc = peso / (altura ** 2)\n",
    "\n",
    "print(f\"O seu IMC é de {round(imc, 2)}\")"
   ]
  }
 ],
 "metadata": {
  "kernelspec": {
   "display_name": "Python 3",
   "language": "python",
   "name": "python3"
  },
  "language_info": {
   "codemirror_mode": {
    "name": "ipython",
    "version": 3
   },
   "file_extension": ".py",
   "mimetype": "text/x-python",
   "name": "python",
   "nbconvert_exporter": "python",
   "pygments_lexer": "ipython3",
   "version": "3.11.0"
  }
 },
 "nbformat": 4,
 "nbformat_minor": 2
}
